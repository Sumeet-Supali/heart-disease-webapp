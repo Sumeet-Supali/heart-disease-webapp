{
 "cells": [
  {
   "cell_type": "code",
   "execution_count": 1,
   "metadata": {},
   "outputs": [],
   "source": [
    "import pandas as pd"
   ]
  },
  {
   "cell_type": "code",
   "execution_count": 8,
   "metadata": {},
   "outputs": [
    {
     "name": "stdout",
     "output_type": "stream",
     "text": [
      "KNN Cross-Validated Metrics:\n",
      "Accuracy: 0.85\n",
      "Precision: 0.86\n",
      "Recall: 0.85\n",
      "F1 Score: 0.85\n",
      "ROC AUC Score: 0.96\n"
     ]
    }
   ],
   "source": [
    "import pandas as pd\n",
    "from sklearn.model_selection import cross_val_score, KFold\n",
    "from sklearn.neighbors import KNeighborsClassifier\n",
    "from sklearn.preprocessing import StandardScaler\n",
    "from sklearn.metrics import accuracy_score, precision_score, recall_score, f1_score, roc_auc_score\n",
    "\n",
    "# Load your dataset\n",
    "data = pd.read_csv('heart.csv')\n",
    "\n",
    "# Split the dataset into features (X) and the target variable (y)\n",
    "X = data.drop('target', axis=1)\n",
    "y = data['target']\n",
    "\n",
    "# Standardize features (KNN is distance-based, so standardization is important)\n",
    "scaler = StandardScaler()\n",
    "X = scaler.fit_transform(X)\n",
    "\n",
    "# Initialize the KNN model\n",
    "model_knn = KNeighborsClassifier(n_neighbors=5)  # You can adjust the number of neighbors as needed\n",
    "\n",
    "# Perform k-fold cross-validation\n",
    "kf = KFold(n_splits=5, shuffle=True, random_state=42)\n",
    "\n",
    "accuracy_scores = cross_val_score(model_knn, X, y, cv=kf, scoring='accuracy')\n",
    "precision_scores = cross_val_score(model_knn, X, y, cv=kf, scoring='precision')\n",
    "recall_scores = cross_val_score(model_knn, X, y, cv=kf, scoring='recall')\n",
    "f1_scores = cross_val_score(model_knn, X, y, cv=kf, scoring='f1')\n",
    "roc_auc_scores = cross_val_score(model_knn, X, y, cv=kf, scoring='roc_auc')\n",
    "\n",
    "# Print cross-validated metrics for KNN\n",
    "print(\"KNN Cross-Validated Metrics:\")\n",
    "print(f\"Accuracy: {accuracy_scores.mean():.2f}\")\n",
    "print(f\"Precision: {precision_scores.mean():.2f}\")\n",
    "print(f\"Recall: {recall_scores.mean():.2f}\")\n",
    "print(f\"F1 Score: {f1_scores.mean():.2f}\")\n",
    "print(f\"ROC AUC Score: {roc_auc_scores.mean():.2f}\")\n"
   ]
  },
  {
   "cell_type": "code",
   "execution_count": 9,
   "metadata": {},
   "outputs": [
    {
     "name": "stdout",
     "output_type": "stream",
     "text": [
      "KNN Cross-Validated Metrics:\n",
      "Accuracy: 0.85\n",
      "Precision: 0.86\n",
      "Recall: 0.85\n",
      "F1 Score: 0.85\n",
      "ROC AUC Score: 0.96\n"
     ]
    }
   ],
   "source": [
    "import pandas as pd\n",
    "from sklearn.model_selection import cross_val_score, KFold\n",
    "from sklearn.neighbors import KNeighborsClassifier\n",
    "from sklearn.preprocessing import StandardScaler\n",
    "from sklearn.metrics import accuracy_score, precision_score, recall_score, f1_score, roc_auc_score\n",
    "\n",
    "# Load your dataset\n",
    "data = pd.read_csv('le.csv')\n",
    "\n",
    "# Split the dataset into features (X) and the target variable (y)\n",
    "X = data.drop('target', axis=1)\n",
    "y = data['target']\n",
    "\n",
    "# Standardize features (KNN is distance-based, so standardization is important)\n",
    "scaler = StandardScaler()\n",
    "X = scaler.fit_transform(X)\n",
    "\n",
    "# Initialize the KNN model\n",
    "model_knn = KNeighborsClassifier(n_neighbors=5)  # You can adjust the number of neighbors as needed\n",
    "\n",
    "# Perform k-fold cross-validation\n",
    "kf = KFold(n_splits=5, shuffle=True, random_state=42)\n",
    "\n",
    "accuracy_scores = cross_val_score(model_knn, X, y, cv=kf, scoring='accuracy')\n",
    "precision_scores = cross_val_score(model_knn, X, y, cv=kf, scoring='precision')\n",
    "recall_scores = cross_val_score(model_knn, X, y, cv=kf, scoring='recall')\n",
    "f1_scores = cross_val_score(model_knn, X, y, cv=kf, scoring='f1')\n",
    "roc_auc_scores = cross_val_score(model_knn, X, y, cv=kf, scoring='roc_auc')\n",
    "\n",
    "# Print cross-validated metrics for KNN\n",
    "print(\"KNN Cross-Validated Metrics:\")\n",
    "print(f\"Accuracy: {accuracy_scores.mean():.2f}\")\n",
    "print(f\"Precision: {precision_scores.mean():.2f}\")\n",
    "print(f\"Recall: {recall_scores.mean():.2f}\")\n",
    "print(f\"F1 Score: {f1_scores.mean():.2f}\")\n",
    "print(f\"ROC AUC Score: {roc_auc_scores.mean():.2f}\")\n"
   ]
  },
  {
   "cell_type": "code",
   "execution_count": 10,
   "metadata": {},
   "outputs": [
    {
     "name": "stdout",
     "output_type": "stream",
     "text": [
      "KNN Cross-Validated Metrics:\n",
      "Accuracy: 0.88\n",
      "Precision: 0.89\n",
      "Recall: 0.88\n",
      "F1 Score: 0.88\n",
      "ROC AUC Score: 0.97\n"
     ]
    }
   ],
   "source": [
    "import pandas as pd\n",
    "from sklearn.model_selection import cross_val_score, KFold\n",
    "from sklearn.neighbors import KNeighborsClassifier\n",
    "from sklearn.preprocessing import StandardScaler\n",
    "from sklearn.metrics import accuracy_score, precision_score, recall_score, f1_score, roc_auc_score\n",
    "\n",
    "# Load your dataset\n",
    "data = pd.read_csv('one_hot.csv')\n",
    "\n",
    "# Split the dataset into features (X) and the target variable (y)\n",
    "X = data.drop('target', axis=1)\n",
    "y = data['target']\n",
    "\n",
    "# Standardize features (KNN is distance-based, so standardization is important)\n",
    "scaler = StandardScaler()\n",
    "X = scaler.fit_transform(X)\n",
    "\n",
    "# Initialize the KNN model\n",
    "model_knn = KNeighborsClassifier(n_neighbors=5)  # You can adjust the number of neighbors as needed\n",
    "\n",
    "# Perform k-fold cross-validation\n",
    "kf = KFold(n_splits=5, shuffle=True, random_state=42)\n",
    "\n",
    "accuracy_scores = cross_val_score(model_knn, X, y, cv=kf, scoring='accuracy')\n",
    "precision_scores = cross_val_score(model_knn, X, y, cv=kf, scoring='precision')\n",
    "recall_scores = cross_val_score(model_knn, X, y, cv=kf, scoring='recall')\n",
    "f1_scores = cross_val_score(model_knn, X, y, cv=kf, scoring='f1')\n",
    "roc_auc_scores = cross_val_score(model_knn, X, y, cv=kf, scoring='roc_auc')\n",
    "\n",
    "# Print cross-validated metrics for KNN\n",
    "print(\"KNN Cross-Validated Metrics:\")\n",
    "print(f\"Accuracy: {accuracy_scores.mean():.2f}\")\n",
    "print(f\"Precision: {precision_scores.mean():.2f}\")\n",
    "print(f\"Recall: {recall_scores.mean():.2f}\")\n",
    "print(f\"F1 Score: {f1_scores.mean():.2f}\")\n",
    "print(f\"ROC AUC Score: {roc_auc_scores.mean():.2f}\")\n"
   ]
  },
  {
   "cell_type": "code",
   "execution_count": null,
   "metadata": {},
   "outputs": [],
   "source": []
  },
  {
   "cell_type": "code",
   "execution_count": null,
   "metadata": {},
   "outputs": [],
   "source": []
  }
 ],
 "metadata": {
  "kernelspec": {
   "display_name": "Python 3",
   "language": "python",
   "name": "python3"
  },
  "language_info": {
   "codemirror_mode": {
    "name": "ipython",
    "version": 3
   },
   "file_extension": ".py",
   "mimetype": "text/x-python",
   "name": "python",
   "nbconvert_exporter": "python",
   "pygments_lexer": "ipython3",
   "version": "3.10.5"
  }
 },
 "nbformat": 4,
 "nbformat_minor": 2
}
